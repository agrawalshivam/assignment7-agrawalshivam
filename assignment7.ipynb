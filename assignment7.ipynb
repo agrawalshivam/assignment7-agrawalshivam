{
 "cells": [
  {
   "cell_type": "markdown",
   "metadata": {},
   "source": [
    "# Assignment 7\n",
    "\n",
    "This repository contains a file `data_1.dat` that is actual tabular data from a stress-strain test conducted in a standard test frame (MTS machine).  The columns of data have the following format\n",
    "\n",
    "|time|Axial Displacement|Axial (engineering) Strain| Axial Force |\n",
    "|:-:|:-:|:-:|:-:|\n",
    "| (s) | (in) | (in/in) | (lbf) |\n",
    "\n",
    "Complete the function definition below for the function named `convert_to_true_stress_and_strain()`.  This function should take the name of a file (e.g. `data_1.dat`) as an argument and return a 2-tuple ($\\varepsilon_T$, $\\sigma_T$), where $\\varepsilon_T$ is the *true* strain and $\\sigma_T$ is the *true* stress.\n",
    "\n",
    "Recall that the definition of engineering stress is\n",
    "\n",
    "$$\n",
    "\\sigma_E = \\frac P A_o\n",
    "$$\n",
    "\n",
    "where $P$ is the axial force and $A_o$ is the original cross-sectional area of the sample.  The cross-sectional area can be computed from the width and thickness dimensions that are stored on the 3rd line of the header of the MTS data file.  Look for `Wo=` and `Thicko=`."
   ]
  },
  {
   "cell_type": "markdown",
   "metadata": {},
   "source": [
    "Your function should parse these values out computationally (not manually) because we expect them to be in every MTS header the same way and woud like the function to work on multiple data files.\n",
    "\n",
    "The conversion between engineering $\\varepsilon_E$ and true strain is\n",
    "\n",
    "$$\n",
    "\\varepsilon_T = \\ln(1+\\varepsilon_E).\n",
    "$$\n",
    "\n",
    "The conversion between engineering and true stress is\n",
    "\n",
    "$$\n",
    "\\sigma_T = \\sigma_E (1+\\varepsilon_E).\n",
    "$$\n",
    "\n",
    "Use Numpy data structures and broadcasted operations to make your code compact and efficient.\n",
    "\n",
    "## Please Note\n",
    "\n",
    "You may write your code directly in the Jupyter Notebook below or convert the notebook to a plain Python file with the command\n",
    "\n",
    "```bash\n",
    "jupyter nbconvert --to python assignment7.ipynb\n",
    "```\n",
    "\n",
    "which will create a file `assignment7.py`.  If you commit this file to the repository, only the Python file will be tested (not the Jupyter notebook).  However, if you do not commit this file into the repository, the Jupyter notebook will be converted automatically on Travis before testing.  "
   ]
  },
  {
   "cell_type": "code",
   "execution_count": 1,
   "metadata": {},
   "outputs": [],
   "source": [
    "def convert_to_true_stress_and_strain(filename):\n",
    "    \n",
    "    return "
   ]
  }
 ],
 "metadata": {
  "kernelspec": {
   "display_name": "Python 3",
   "language": "python",
   "name": "python3"
  },
  "language_info": {
   "codemirror_mode": {
    "name": "ipython",
    "version": 3
   },
   "file_extension": ".py",
   "mimetype": "text/x-python",
   "name": "python",
   "nbconvert_exporter": "python",
   "pygments_lexer": "ipython3",
   "version": "3.6.4"
  }
 },
 "nbformat": 4,
 "nbformat_minor": 2
}
